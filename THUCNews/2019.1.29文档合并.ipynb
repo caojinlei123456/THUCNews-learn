{
 "cells": [
  {
   "cell_type": "code",
   "execution_count": 1,
   "metadata": {},
   "outputs": [],
   "source": [
    "import os"
   ]
  },
  {
   "cell_type": "code",
   "execution_count": 2,
   "metadata": {},
   "outputs": [],
   "source": [
    "def _read_file(filename):\n",
    "    \"\"\"读取一个文件并转换为一行\"\"\"\n",
    "    with open(filename, 'r', encoding='utf-8') as f:\n",
    "        return f.read().replace('\\n', '').replace('\\t', '').replace('\\u3000', '')\n",
    "    # ‘\\n’换行，‘\\t’空格，‘\\u3000’左边置顶（全角空格剔除）"
   ]
  },
  {
   "cell_type": "code",
   "execution_count": 10,
   "metadata": {},
   "outputs": [],
   "source": [
    "def save_file(dirname):\n",
    "    \"\"\"\n",
    "    将多个文件整合并存到3个文件中\n",
    "    dirname: 原数据目录\n",
    "    文件内容格式:  类别\\t内容\n",
    "    \"\"\"\n",
    "    f_train = open('E:/百度/cnews.train.txt', 'w', encoding='utf-8')\n",
    "    f_test = open('E:/百度/cnews.test.txt', 'w', encoding='utf-8')\n",
    "    f_val = open('E:/百度/cnews.val.txt', 'w', encoding='utf-8')\n",
    "    for category in os.listdir(dirname):   # 分类目录\n",
    "        cat_dir = os.path.join(dirname, category)\n",
    "        if not os.path.isdir(cat_dir):\n",
    "            continue\n",
    "        files = os.listdir(cat_dir)\n",
    "        count = 0\n",
    "        for cur_file in files:\n",
    "            filename = os.path.join(cat_dir, cur_file)\n",
    "            content = _read_file(filename)\n",
    "            if count < 5000:\n",
    "                f_train.write(category + '\\t' + content + '\\n')\n",
    "            elif count < 6000:\n",
    "                f_test.write(category + '\\t' + content + '\\n')\n",
    "            elif count < 6500:\n",
    "                f_val.write(category + '\\t' + content + '\\n')\n",
    "            count += 1\n",
    "\n",
    "        print('Finished:', category)\n",
    "\n",
    "    f_train.close()\n",
    "    f_test.close()\n",
    "    f_val.close()"
   ]
  },
  {
   "cell_type": "code",
   "execution_count": 11,
   "metadata": {},
   "outputs": [
    {
     "name": "stdout",
     "output_type": "stream",
     "text": [
      "Finished: 体育\n",
      "Finished: 娱乐\n",
      "Finished: 家居\n",
      "Finished: 彩票\n",
      "Finished: 房产\n",
      "Finished: 教育\n",
      "Finished: 时尚\n",
      "Finished: 时政\n",
      "Finished: 游戏\n",
      "Finished: 社会\n",
      "Finished: 科技\n",
      "Finished: 股票\n",
      "Finished: 财经\n"
     ]
    }
   ],
   "source": [
    "if __name__ == '__main__':\n",
    "    save_file('E:/百度/THUCNews/THUCNews')"
   ]
  },
  {
   "cell_type": "code",
   "execution_count": 12,
   "metadata": {},
   "outputs": [
    {
     "name": "stdout",
     "output_type": "stream",
     "text": [
      "65000\n",
      "13000\n",
      "6500\n"
     ]
    }
   ],
   "source": [
    "print(len(open('E:/百度/cnews.train.txt', 'r', encoding='utf-8').readlines()))\n",
    "print(len(open('E:/百度/cnews.test.txt', 'r', encoding='utf-8').readlines()))\n",
    "print(len(open('E:/百度/cnews.val.txt', 'r', encoding='utf-8').readlines()))"
   ]
  },
  {
   "cell_type": "code",
   "execution_count": 8,
   "metadata": {},
   "outputs": [
    {
     "name": "stdout",
     "output_type": "stream",
     "text": [
      "50000\n",
      "10000\n",
      "5000\n"
     ]
    }
   ],
   "source": [
    "print(len(open('E:/cnews/cnews.train.txt', 'r', encoding='utf-8').readlines()))\n",
    "print(len(open('E:/cnews/cnews.test.txt', 'r', encoding='utf-8').readlines()))\n",
    "print(len(open('E:/cnews/cnews.val.txt', 'r', encoding='utf-8').readlines()))"
   ]
  },
  {
   "cell_type": "code",
   "execution_count": null,
   "metadata": {},
   "outputs": [],
   "source": []
  }
 ],
 "metadata": {
  "kernelspec": {
   "display_name": "Python 3",
   "language": "python",
   "name": "python3"
  },
  "language_info": {
   "codemirror_mode": {
    "name": "ipython",
    "version": 3
   },
   "file_extension": ".py",
   "mimetype": "text/x-python",
   "name": "python",
   "nbconvert_exporter": "python",
   "pygments_lexer": "ipython3",
   "version": "3.6.8"
  }
 },
 "nbformat": 4,
 "nbformat_minor": 2
}
