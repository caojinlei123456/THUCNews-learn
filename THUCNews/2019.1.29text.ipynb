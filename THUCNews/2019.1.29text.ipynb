{
 "cells": [
  {
   "cell_type": "code",
   "execution_count": 1,
   "metadata": {},
   "outputs": [],
   "source": [
    "import numpy as np\n",
    "import matplotlib.pyplot as plt\n",
    "import mglearn\n",
    "import pandas as pd\n",
    "import tensorflow.contrib.keras as kr\n",
    "import tensorflow as tf\n",
    "from sklearn.preprocessing import LabelEncoder\n",
    "from sklearn.metrics import confusion_matrix"
   ]
  },
  {
   "cell_type": "code",
   "execution_count": 2,
   "metadata": {},
   "outputs": [],
   "source": [
    "with open('E://cnews/cnews.vocab.txt', encoding='utf8') as file:\n",
    "    vocabulary_list = [k.strip() for k in file.readlines()]\n",
    "#读取词表\n",
    "with open('E://cnews/cnews.train.txt', encoding='utf8') as file:\n",
    "    line_list = [k.strip() for k in file.readlines()]\n",
    "    #读取每行\n",
    "    train_label_list = [k.split()[0] for k in line_list]\n",
    "    #将标签依次取出\n",
    "    train_content_list = [k.split(maxsplit=1)[1] for k in line_list]\n",
    "    #将内容依次取出,此处注意split()选择最大分割次数为1,否则句子被打断.\n",
    "#同理读取test数据\n",
    "with open('E://cnews/cnews.test.txt', encoding='utf8') as file:\n",
    "    line_list = [k.strip() for k in file.readlines()]\n",
    "    test_label_list = [k.split()[0] for k in line_list]\n",
    "    test_content_list = [k.split(maxsplit=1)[1] for k in line_list]"
   ]
  },
  {
   "cell_type": "code",
   "execution_count": 3,
   "metadata": {},
   "outputs": [
    {
     "name": "stdout",
     "output_type": "stream",
     "text": [
      "746\n",
      "746\n",
      "************************************\n",
      "1720\n",
      "1720\n"
     ]
    }
   ],
   "source": [
    "word2id_dict = dict(((b, a) for a, b in enumerate(vocabulary_list)))\n",
    "def content2vector(content_list):\n",
    "    content_vector_list = []\n",
    "    for content in content_list:\n",
    "        content_vector = []\n",
    "        for word in content:\n",
    "            if word in word2id_dict:\n",
    "                content_vector.append(word2id_dict[word])\n",
    "            else:\n",
    "                content_vector.append(word2id_dict['<PAD>'])\n",
    "        content_vector_list.append(content_vector)\n",
    "    return content_vector_list\n",
    "train_vector_list = content2vector(train_content_list)\n",
    "test_vector_list = content2vector(test_content_list)\n",
    "\n",
    "print(len(train_content_list[0]))\n",
    "print(len(train_vector_list[:1][0]))\n",
    "print('************************************')\n",
    "print(len(test_content_list[0]))\n",
    "print(len(test_vector_list[:1][0]))"
   ]
  },
  {
   "cell_type": "code",
   "execution_count": 4,
   "metadata": {},
   "outputs": [],
   "source": [
    "vocab_size = 5000  # 词汇表达小\n",
    "seq_length = 600  # 句子序列长度\n",
    "num_classes = 10  # 类别数"
   ]
  },
  {
   "cell_type": "code",
   "execution_count": 5,
   "metadata": {},
   "outputs": [],
   "source": [
    "train_X = kr.preprocessing.sequence.pad_sequences(train_vector_list,600)\n",
    "test_X = kr.preprocessing.sequence.pad_sequences(test_vector_list,600)\n",
    "label = LabelEncoder()\n",
    "train_Y = kr.utils.to_categorical(label.fit_transform(train_label_list),num_classes=num_classes)\n",
    "test_Y = kr.utils.to_categorical(label.fit_transform(test_label_list),num_classes=num_classes)"
   ]
  },
  {
   "cell_type": "code",
   "execution_count": 6,
   "metadata": {},
   "outputs": [],
   "source": [
    "X_holder = tf.placeholder(tf.int32,[None,seq_length])\n",
    "#X的占位符由于句子是由id组成的向量，而id为int类型，\n",
    "#所以定义x的传入数据为tf.int32类型，\n",
    "#None表示可以传任意组X，seq_length表示词向量维度。\n",
    "Y_holder = tf.placeholder(tf.float32,[None,num_classes])\n",
    "#同理Y占位符向量维度为10，也即num_classes。"
   ]
  },
  {
   "cell_type": "code",
   "execution_count": 7,
   "metadata": {},
   "outputs": [],
   "source": [
    "embedding_dim = 128  # 词向量维度\n",
    "num_filters = 256  # 卷积核数目（有多少个卷积核就有多少个feature map）\n",
    "kernel_size = 8  # 卷积核尺寸\n",
    "hidden_dim = 128  # 全连接层神经元\n",
    "dropout_keep_prob = 0.5  # dropout保留比例\n",
    "learning_rate = 1e-3  # 学习率\n",
    "batch_size = 64  # 每批训练大小"
   ]
  },
  {
   "cell_type": "code",
   "execution_count": 8,
   "metadata": {},
   "outputs": [],
   "source": [
    "embedding = tf.get_variable('embedding', [vocab_size, embedding_dim])\n",
    "#embedding字典维度为5000*128,128为词向量维度\n",
    "embedding_outputs = tf.nn.embedding_lookup(embedding, X_holder)\n",
    "#embedding_outputs的维度为(batch_size)64*600*128"
   ]
  },
  {
   "cell_type": "code",
   "execution_count": 9,
   "metadata": {},
   "outputs": [],
   "source": [
    "conv1 = tf.layers.conv1d(inputs=embedding_outputs,filters=num_filters,kernel_size=kernel_size)\n",
    "max_pool = tf.reduce_max(conv1,reduction_indices=[1])\n",
    "full_connect = tf.layers.dense(max_pool,hidden_dim)"
   ]
  },
  {
   "cell_type": "code",
   "execution_count": 10,
   "metadata": {},
   "outputs": [],
   "source": [
    "full_connect_dropout = tf.contrib.layers.dropout(full_connect,keep_prob=0.5)\n",
    "full_connect_activate = tf.nn.relu(full_connect_dropout)\n",
    "full_connect_last = tf.layers.dense(full_connect_activate,num_classes)\n",
    "predict_y = tf.nn.softmax(full_connect_last)"
   ]
  },
  {
   "cell_type": "code",
   "execution_count": 11,
   "metadata": {},
   "outputs": [],
   "source": [
    "cross_entry = tf.nn.softmax_cross_entropy_with_logits_v2(labels=Y_holder,logits=full_connect_last)\n",
    "loss = tf.reduce_mean(cross_entry)\n",
    "optimizer = tf.train.AdamOptimizer(learning_rate=learning_rate)\n",
    "train = optimizer.minimize(loss)"
   ]
  },
  {
   "cell_type": "code",
   "execution_count": 12,
   "metadata": {},
   "outputs": [],
   "source": [
    "correct = tf.equal(tf.argmax(Y_holder,1),tf.argmax(predict_y,1))\n",
    "accuracy = tf.reduce_mean(tf.cast(correct,tf.float32))"
   ]
  },
  {
   "cell_type": "code",
   "execution_count": 13,
   "metadata": {},
   "outputs": [],
   "source": [
    "init = tf.global_variables_initializer()\n",
    "sess = tf.Session()\n",
    "sess.run(init)"
   ]
  },
  {
   "cell_type": "code",
   "execution_count": 14,
   "metadata": {},
   "outputs": [
    {
     "name": "stdout",
     "output_type": "stream",
     "text": [
      "step:100 loss:1.2979 accuracy:0.6450\n",
      "step:200 loss:0.4843 accuracy:0.8400\n",
      "step:300 loss:0.3395 accuracy:0.9100\n",
      "step:400 loss:0.3620 accuracy:0.9150\n",
      "step:500 loss:0.1924 accuracy:0.9550\n",
      "step:600 loss:0.2882 accuracy:0.9250\n",
      "step:700 loss:0.2156 accuracy:0.9400\n",
      "step:800 loss:0.2717 accuracy:0.9150\n",
      "step:900 loss:0.2030 accuracy:0.9350\n",
      "step:1000 loss:0.2138 accuracy:0.9300\n",
      "step:1100 loss:0.1234 accuracy:0.9800\n",
      "step:1200 loss:0.1583 accuracy:0.9500\n",
      "step:1300 loss:0.2018 accuracy:0.9350\n",
      "step:1400 loss:0.1951 accuracy:0.9500\n",
      "step:1500 loss:0.1565 accuracy:0.9500\n",
      "step:1600 loss:0.1630 accuracy:0.9500\n",
      "step:1700 loss:0.1407 accuracy:0.9500\n",
      "step:1800 loss:0.2302 accuracy:0.9550\n",
      "step:1900 loss:0.1401 accuracy:0.9700\n",
      "step:2000 loss:0.2931 accuracy:0.9200\n",
      "step:2100 loss:0.0967 accuracy:0.9650\n",
      "step:2200 loss:0.2060 accuracy:0.9400\n",
      "step:2300 loss:0.3226 accuracy:0.9450\n",
      "step:2400 loss:0.2853 accuracy:0.9200\n",
      "step:2500 loss:0.2494 accuracy:0.9300\n",
      "step:2600 loss:0.1150 accuracy:0.9600\n",
      "step:2700 loss:0.1244 accuracy:0.9500\n",
      "step:2800 loss:0.2279 accuracy:0.9300\n",
      "step:2900 loss:0.1044 accuracy:0.9600\n",
      "step:3000 loss:0.2316 accuracy:0.9500\n",
      "step:3100 loss:0.1332 accuracy:0.9500\n",
      "step:3200 loss:0.1408 accuracy:0.9750\n",
      "step:3300 loss:0.2694 accuracy:0.9350\n",
      "step:3400 loss:0.3276 accuracy:0.9350\n",
      "step:3500 loss:0.3178 accuracy:0.9250\n",
      "step:3600 loss:0.1964 accuracy:0.9550\n",
      "step:3700 loss:0.3246 accuracy:0.9250\n",
      "step:3800 loss:0.1052 accuracy:0.9650\n",
      "step:3900 loss:0.3036 accuracy:0.9400\n",
      "step:4000 loss:0.2474 accuracy:0.9250\n",
      "step:4100 loss:0.4563 accuracy:0.9200\n",
      "step:4200 loss:0.2484 accuracy:0.9200\n",
      "step:4300 loss:0.3304 accuracy:0.9350\n",
      "step:4400 loss:0.2249 accuracy:0.9500\n",
      "step:4500 loss:0.1756 accuracy:0.9550\n",
      "step:4600 loss:0.1834 accuracy:0.9400\n",
      "step:4700 loss:0.0938 accuracy:0.9650\n",
      "step:4800 loss:0.1578 accuracy:0.9600\n",
      "step:4900 loss:0.3350 accuracy:0.9300\n",
      "step:5000 loss:0.2005 accuracy:0.9500\n"
     ]
    }
   ],
   "source": [
    "import random\n",
    "for i in range(5000):\n",
    "    train_index = random.sample(list(range(len(train_Y))),k=batch_size)\n",
    "    X = train_X[train_index]\n",
    "    Y = train_Y[train_index]\n",
    "    sess.run(train,feed_dict={X_holder:X,Y_holder:Y})\n",
    "    step = i + 1 \n",
    "    if step % 100 == 0:\n",
    "        test_index = random.sample(list(range(len(test_Y))), k=200)\n",
    "        x = test_X[test_index]\n",
    "        y = test_Y[test_index]\n",
    "        loss_value, accuracy_value = sess.run([loss, accuracy], {X_holder:x, Y_holder:y})\n",
    "        print('step:%d loss:%.4f accuracy:%.4f' %(step, loss_value, accuracy_value))"
   ]
  },
  {
   "cell_type": "code",
   "execution_count": 15,
   "metadata": {},
   "outputs": [
    {
     "data": {
      "image/png": "[encoded data removed]",
      "text/plain": [
       "<Figure size 432x288 with 1 Axes>"
      ]
     },
     "metadata": {
      "needs_background": "light"
     },
     "output_type": "display_data"
    }
   ],
   "source": [
    "from sklearn.metrics import classification_report\n",
    "def predictAll(test_X, batch_size=100):\n",
    "    predict_value_list = []\n",
    "    for i in range(0, len(test_X), batch_size):\n",
    "        X = test_X[i: i + batch_size]\n",
    "        predict_value = sess.run(predict_y, {X_holder:X})\n",
    "        predict_value_list.extend(predict_value)\n",
    "    return np.array(predict_value_list)\n",
    "Y = predictAll(test_X)\n",
    "y = np.argmax(Y, axis=1)\n",
    "predict_label_list = label.inverse_transform(y)\n",
    "score_image = mglearn.tools.heatmap(confusion_matrix(test_label_list, predict_label_list),\n",
    "                                    xlabel='Predicted label',ylabel='True label',xticklabels=label.classes_,\n",
    "                                    yticklabels=label.classes_,cmap=plt.cm.gray_r,fmt='%d')\n",
    "plt.rcParams['font.sans-serif']=['SimHei']\n",
    "plt.rcParams['axes.unicode_minus'] = False\n",
    "plt.title('混淆矩阵')\n",
    "plt.gca().invert_yaxis()\n"
   ]
  },
  {
   "cell_type": "code",
   "execution_count": 16,
   "metadata": {},
   "outputs": [
    {
     "data": {
      "text/html": [
       "<div>\n",
       "<style scoped>\n",
       "    .dataframe tbody tr th:only-of-type {\n",
       "        vertical-align: middle;\n",
       "    }\n",
       "\n",
       "    .dataframe tbody tr th {\n",
       "        vertical-align: top;\n",
       "    }\n",
       "\n",
       "    .dataframe thead th {\n",
       "        text-align: right;\n",
       "    }\n",
       "</style>\n",
       "<table border=\"1\" class=\"dataframe\">\n",
       "  <thead>\n",
       "    <tr style=\"text-align: right;\">\n",
       "      <th></th>\n",
       "      <th>Label</th>\n",
       "      <th>Precision</th>\n",
       "      <th>Recall</th>\n",
       "      <th>F1</th>\n",
       "      <th>Support</th>\n",
       "    </tr>\n",
       "  </thead>\n",
       "  <tbody>\n",
       "    <tr>\n",
       "      <th>0</th>\n",
       "      <td>体育</td>\n",
       "      <td>0.996957</td>\n",
       "      <td>0.983</td>\n",
       "      <td>0.989930</td>\n",
       "      <td>1000</td>\n",
       "    </tr>\n",
       "    <tr>\n",
       "      <th>1</th>\n",
       "      <td>娱乐</td>\n",
       "      <td>0.962451</td>\n",
       "      <td>0.974</td>\n",
       "      <td>0.968191</td>\n",
       "      <td>1000</td>\n",
       "    </tr>\n",
       "    <tr>\n",
       "      <th>2</th>\n",
       "      <td>家居</td>\n",
       "      <td>0.975000</td>\n",
       "      <td>0.780</td>\n",
       "      <td>0.866667</td>\n",
       "      <td>1000</td>\n",
       "    </tr>\n",
       "    <tr>\n",
       "      <th>3</th>\n",
       "      <td>房产</td>\n",
       "      <td>0.991992</td>\n",
       "      <td>0.991</td>\n",
       "      <td>0.991496</td>\n",
       "      <td>1000</td>\n",
       "    </tr>\n",
       "    <tr>\n",
       "      <th>4</th>\n",
       "      <td>教育</td>\n",
       "      <td>0.878788</td>\n",
       "      <td>0.899</td>\n",
       "      <td>0.888779</td>\n",
       "      <td>1000</td>\n",
       "    </tr>\n",
       "    <tr>\n",
       "      <th>5</th>\n",
       "      <td>时尚</td>\n",
       "      <td>0.896392</td>\n",
       "      <td>0.969</td>\n",
       "      <td>0.931283</td>\n",
       "      <td>1000</td>\n",
       "    </tr>\n",
       "    <tr>\n",
       "      <th>6</th>\n",
       "      <td>时政</td>\n",
       "      <td>0.910521</td>\n",
       "      <td>0.926</td>\n",
       "      <td>0.918195</td>\n",
       "      <td>1000</td>\n",
       "    </tr>\n",
       "    <tr>\n",
       "      <th>7</th>\n",
       "      <td>游戏</td>\n",
       "      <td>0.956132</td>\n",
       "      <td>0.959</td>\n",
       "      <td>0.957564</td>\n",
       "      <td>1000</td>\n",
       "    </tr>\n",
       "    <tr>\n",
       "      <th>8</th>\n",
       "      <td>科技</td>\n",
       "      <td>0.907834</td>\n",
       "      <td>0.985</td>\n",
       "      <td>0.944844</td>\n",
       "      <td>1000</td>\n",
       "    </tr>\n",
       "    <tr>\n",
       "      <th>9</th>\n",
       "      <td>财经</td>\n",
       "      <td>0.969819</td>\n",
       "      <td>0.964</td>\n",
       "      <td>0.966901</td>\n",
       "      <td>1000</td>\n",
       "    </tr>\n",
       "    <tr>\n",
       "      <th>999</th>\n",
       "      <td>总体</td>\n",
       "      <td>0.944589</td>\n",
       "      <td>0.943</td>\n",
       "      <td>0.942385</td>\n",
       "      <td>10000</td>\n",
       "    </tr>\n",
       "  </tbody>\n",
       "</table>\n",
       "</div>"
      ],
      "text/plain": [
       "    Label  Precision  Recall        F1  Support\n",
       "0      体育   0.996957   0.983  0.989930     1000\n",
       "1      娱乐   0.962451   0.974  0.968191     1000\n",
       "2      家居   0.975000   0.780  0.866667     1000\n",
       "3      房产   0.991992   0.991  0.991496     1000\n",
       "4      教育   0.878788   0.899  0.888779     1000\n",
       "5      时尚   0.896392   0.969  0.931283     1000\n",
       "6      时政   0.910521   0.926  0.918195     1000\n",
       "7      游戏   0.956132   0.959  0.957564     1000\n",
       "8      科技   0.907834   0.985  0.944844     1000\n",
       "9      财经   0.969819   0.964  0.966901     1000\n",
       "999    总体   0.944589   0.943  0.942385    10000"
      ]
     },
     "execution_count": 16,
     "metadata": {},
     "output_type": "execute_result"
    }
   ],
   "source": [
    "from sklearn.metrics import precision_recall_fscore_support\n",
    "\n",
    "def eval_model(y_true, y_pred, labels):\n",
    "    # 计算每个分类的Precision, Recall, f1, support\n",
    "    p, r, f1, s = precision_recall_fscore_support(y_true, y_pred)\n",
    "    # 计算总体的平均Precision, Recall, f1, support\n",
    "    tot_p = np.average(p, weights=s)\n",
    "    tot_r = np.average(r, weights=s)\n",
    "    tot_f1 = np.average(f1, weights=s)\n",
    "    tot_s = np.sum(s)\n",
    "    res1 = pd.DataFrame({\n",
    "        u'Label': labels,\n",
    "        u'Precision': p,\n",
    "        u'Recall': r,\n",
    "        u'F1': f1,\n",
    "        u'Support': s\n",
    "    })\n",
    "    res2 = pd.DataFrame({\n",
    "        u'Label': ['总体'],\n",
    "        u'Precision': [tot_p],\n",
    "        u'Recall': [tot_r],\n",
    "        u'F1': [tot_f1],\n",
    "        u'Support': [tot_s]\n",
    "    })\n",
    "    res2.index = [999]\n",
    "    res = pd.concat([res1, res2])\n",
    "    return res[['Label', 'Precision', 'Recall', 'F1', 'Support']]\n",
    "\n",
    "eval_model(test_label_list, predict_label_list, label.classes_)"
   ]
  },
  {
   "cell_type": "code",
   "execution_count": null,
   "metadata": {},
   "outputs": [],
   "source": []
  }
 ],
 "metadata": {
  "kernelspec": {
   "display_name": "Python 3",
   "language": "python",
   "name": "python3"
  },
  "language_info": {
   "codemirror_mode": {
    "name": "ipython",
    "version": 3
   },
   "file_extension": ".py",
   "mimetype": "text/x-python",
   "name": "python",
   "nbconvert_exporter": "python",
   "pygments_lexer": "ipython3",
   "version": "3.6.8"
  }
 },
 "nbformat": 4,
 "nbformat_minor": 2
}
