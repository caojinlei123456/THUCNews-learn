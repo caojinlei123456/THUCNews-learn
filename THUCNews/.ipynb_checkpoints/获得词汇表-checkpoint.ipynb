{
 "cells": [
  {
   "cell_type": "code",
   "execution_count": 1,
   "metadata": {},
   "outputs": [],
   "source": [
    "from collections import Counter"
   ]
  },
  {
   "cell_type": "code",
   "execution_count": 3,
   "metadata": {},
   "outputs": [],
   "source": [
    "def getVocabularyText(content_list, size):\n",
    "    size = size - 1\n",
    "    allContent = ''.join(content_list)\n",
    "    #将内容列表中的所有文章合并起来变成字符串str形式\n",
    "    counter = Counter(allContent)\n",
    "    #将Counter对象实例化并传入字符串形式的内容\n",
    "    vocabulary = []\n",
    "    vocabulary.append('<PAD>')\n",
    "    for i in counter.most_common(size):\n",
    "        vocabulary.append(i[0])\n",
    "    with open('vocabulary.txt', 'w', encoding='utf8') as file:\n",
    "        for vocab in vocabulary:\n",
    "            file.write(vocab + '\\n')"
   ]
  },
  {
   "cell_type": "code",
   "execution_count": 14,
   "metadata": {},
   "outputs": [],
   "source": [
    "with open('E:/cnews/cnews.train.txt', encoding='utf8') as file:\n",
    "    line_list = [k.strip() for k in file.readlines()]\n",
    "    #读取每行\n",
    "    train_label_list = [k.split()[0] for k in line_list]\n",
    "    #将标签依次取出\n",
    "    train_content_list = [k.split(maxsplit=1)[1] for k in line_list]\n",
    "    #将内容依次取出,此处注意split()选择最大分割次数为1,否则句子被打断.\n",
    "with open('E://cnews/cnews.test.txt', encoding='utf8') as file:\n",
    "    line_list = [k.strip() for k in file.readlines()]\n",
    "    test_label_list = [k.split()[0] for k in line_list]\n",
    "    test_content_list = [k.split(maxsplit=1)[1] for k in line_list]\n",
    "with open('E://cnews/cnews.val.txt', encoding='utf8') as file:\n",
    "    line_list = [k.strip() for k in file.readlines()]\n",
    "    val_label_list = [k.split()[0] for k in line_list]\n",
    "    val_content_list = [k.split(maxsplit=1)[1] for k in line_list]"
   ]
  },
  {
   "cell_type": "code",
   "execution_count": 15,
   "metadata": {},
   "outputs": [],
   "source": [
    "content_list=train_content_list+test_content_list+val_content_list"
   ]
  },
  {
   "cell_type": "code",
   "execution_count": 17,
   "metadata": {},
   "outputs": [],
   "source": [
    "getVocabularyText(content_list, 5000)"
   ]
  },
  {
   "cell_type": "code",
   "execution_count": null,
   "metadata": {},
   "outputs": [],
   "source": []
  }
 ],
 "metadata": {
  "kernelspec": {
   "display_name": "Python 3",
   "language": "python",
   "name": "python3"
  },
  "language_info": {
   "codemirror_mode": {
    "name": "ipython",
    "version": 3
   },
   "file_extension": ".py",
   "mimetype": "text/x-python",
   "name": "python",
   "nbconvert_exporter": "python",
   "pygments_lexer": "ipython3",
   "version": "3.6.8"
  }
 },
 "nbformat": 4,
 "nbformat_minor": 2
}
