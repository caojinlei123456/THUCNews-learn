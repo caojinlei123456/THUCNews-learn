{
 "cells": [
  {
   "cell_type": "code",
   "execution_count": 19,
   "metadata": {},
   "outputs": [],
   "source": [
    "import os\n",
    "\n",
    "\n",
    "def getFilePathList(rootDir):\n",
    "    filePath_list = []\n",
    "    for walk in os.walk(rootDir):\n",
    "        part_filePath_list = [os.path.join(walk[0], file) for file in walk[2]]\n",
    "        filePath_list.extend(part_filePath_list)\n",
    "    return filePath_list\n"
   ]
  },
  {
   "cell_type": "code",
   "execution_count": 23,
   "metadata": {},
   "outputs": [
    {
     "data": {
      "text/plain": [
       "836075"
      ]
     },
     "execution_count": 23,
     "metadata": {},
     "output_type": "execute_result"
    }
   ],
   "source": [
    "filePath_list = getFilePathList('E://百度/THUCNews/THUCNews/')\n",
    "len(filePath_list)"
   ]
  },
  {
   "cell_type": "code",
   "execution_count": 38,
   "metadata": {},
   "outputs": [
    {
     "data": {
      "text/plain": [
       "836075"
      ]
     },
     "execution_count": 38,
     "metadata": {},
     "output_type": "execute_result"
    }
   ],
   "source": [
    "label_list = []\n",
    "for filePath in filePath_list:\n",
    "    label = filePath.split('\\\\')[0]\n",
    "    label_list.append(label)\n",
    "len(label_list)"
   ]
  },
  {
   "cell_type": "code",
   "execution_count": 40,
   "metadata": {},
   "outputs": [
    {
     "data": {
      "text/plain": [
       "E://百度/THUCNews/THUCNews/科技    162929\n",
       "E://百度/THUCNews/THUCNews/股票    154398\n",
       "E://百度/THUCNews/THUCNews/体育    131604\n",
       "E://百度/THUCNews/THUCNews/娱乐     92632\n",
       "E://百度/THUCNews/THUCNews/时政     63086\n",
       "E://百度/THUCNews/THUCNews/社会     50849\n",
       "E://百度/THUCNews/THUCNews/教育     41936\n",
       "E://百度/THUCNews/THUCNews/财经     37098\n",
       "E://百度/THUCNews/THUCNews/家居     32586\n",
       "E://百度/THUCNews/THUCNews/游戏     24373\n",
       "E://百度/THUCNews/THUCNews/房产     20050\n",
       "E://百度/THUCNews/THUCNews/时尚     13368\n",
       "E://百度/THUCNews/THUCNews/彩票      7588\n",
       "E://百度/THUCNews/THUCNews/星座      3578\n",
       "dtype: int64"
      ]
     },
     "execution_count": 40,
     "metadata": {},
     "output_type": "execute_result"
    }
   ],
   "source": [
    "import pandas as pd\n",
    "pd.value_counts(label_list)"
   ]
  },
  {
   "cell_type": "code",
   "execution_count": 41,
   "metadata": {},
   "outputs": [],
   "source": [
    "import pickle\n",
    "with open('label_list.pickle', 'wb') as file:\n",
    "    pickle.dump(label_list, file)"
   ]
  },
  {
   "cell_type": "code",
   "execution_count": 37,
   "metadata": {},
   "outputs": [
    {
     "data": {
      "text/plain": [
       "'E://百度/THUCNews/THUCNews/财经'"
      ]
     },
     "execution_count": 37,
     "metadata": {},
     "output_type": "execute_result"
    }
   ],
   "source": []
  },
  {
   "cell_type": "code",
   "execution_count": null,
   "metadata": {},
   "outputs": [],
   "source": []
  }
 ],
 "metadata": {
  "kernelspec": {
   "display_name": "Python 3",
   "language": "python",
   "name": "python3"
  },
  "language_info": {
   "codemirror_mode": {
    "name": "ipython",
    "version": 3
   },
   "file_extension": ".py",
   "mimetype": "text/x-python",
   "name": "python",
   "nbconvert_exporter": "python",
   "pygments_lexer": "ipython3",
   "version": "3.6.8"
  }
 },
 "nbformat": 4,
 "nbformat_minor": 1
}
